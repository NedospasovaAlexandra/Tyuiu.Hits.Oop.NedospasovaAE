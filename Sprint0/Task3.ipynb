{
 "cells": [
  {
   "cell_type": "markdown",
   "metadata": {},
   "source": [
    "<h1 style=\"color:DodgerBlue\">Индивидуальный проект</h1>"
   ]
  },
  {
   "cell_type": "markdown",
   "metadata": {},
   "source": [
    "<h2 style=\"color:DodgerBlue\">Название проекта:</h2>\n",
    "\n",
    "----\n",
    "\n",
    "### Вариант задания 12\n"
   ]
  },
  {
   "cell_type": "markdown",
   "metadata": {},
   "source": [
    "<h2 style=\"color:DodgerBlue\">Описание проекта:</h2>\n",
    "\n",
    "----\n",
    "\n",
    "# Создать базовый класс `Item` в C#\n",
    "\n",
    "Создать базовый класс `Item` в C#, который будет представлять информацию о товарах, которые могут быть заказаны или возвращены. На основе этого класса разработать 2-3 производных класса, демонстрирующих принципы наследования и полиморфизма. В каждом из классов должны быть реализованы новые атрибуты и методы, а также переопределены некоторые методы базового класса для демонстрации полиморфизма.\n",
    "\n",
    "## Требования к базовому классу `Item`:\n",
    "- **Атрибуты**: \n",
    "  - `ID` товара (`ItemId`)\n",
    "  - Название (`Name`)\n",
    "  - Цена (`Price`)\n",
    "\n",
    "- **Методы**:\n",
    "  - `GetDetails()`: метод для получения детальной информации о товаре.\n",
    "  - `CalculateDiscount()`: метод для расчета скидки на товар.\n",
    "  - `ApplyDiscount(decimal discount)`: метод для применения скидки к цене товара.\n",
    "\n",
    "## Требования к производным классам:\n",
    "\n",
    "1. **ЕдиничныйТовар (SingleItem)**:  \n",
    "   Должен содержать дополнительные атрибуты, такие как единица измерения (`UnitMeasure`). Метод `GetDetails()` должен быть переопределен для добавления информации о единице измерения товара.\n",
    "\n",
    "2. **ПакетныйТовар (PackageItem)**:  \n",
    "   Должен содержать дополнительные атрибуты, такие как количество единиц в пакете (`QuantityPerPackage`). Метод `CalculateDiscount()` должен быть переопределен для учета количества единиц в пакете при расчете скидки.\n",
    "\n",
    "3. **СпециальныйТовар (SpecialItem)** (если требуется третий класс):  \n",
    "   Должен содержать дополнительные атрибуты, такие как дата истечения скидки (`DiscountExpirationDate`). Метод `ApplyDiscount()` должен быть переопределен для добавления информации о сроке действия скидки.\n"
   ]
  },
  {
   "cell_type": "markdown",
   "metadata": {},
   "source": [
    "<h2 style=\"color:DodgerBlue\">Реализация:</h2>\n",
    "\n",
    "----"
   ]
  },
  {
   "cell_type": "code",
   "execution_count": 2,
   "metadata": {
    "dotnet_interactive": {
     "language": "csharp"
    },
    "polyglot_notebook": {
     "kernelName": "csharp"
    }
   },
   "outputs": [],
   "source": [
    "using System;\n",
    "public class Item\n",
    "{\n",
    "    public int ItemId {get; set;}\n",
    "    public string Name {get; set;}\n",
    "    public decimal Price {get; set;}\n",
    "    public Item (int itemId, string name, decimal price)\n",
    "    {\n",
    "        ItemId = itemId;\n",
    "        Name = name;\n",
    "        Price = price;\n",
    "    }\n",
    "    public virtual string GetDetails()\n",
    "    {\n",
    "        return $\"ID: {ItemId}, Название: {Name}, Цена: {Price:C}\";\n",
    "    }\n",
    "    public virtual decimal CalculateDiscount()\n",
    "    {\n",
    "        return Price * 0.10m;\n",
    "    }\n",
    "    public virtual void ApplyDiscount (decimal discount)\n",
    "    {\n",
    "        Price -= discount;\n",
    "    } \n",
    "}\n",
    "public class SingleItem : Item\n",
    "{\n",
    "    public string UnitMeasure {get; set;}\n",
    "    public SingleItem (int itemId, string name, decimal price, string unitMeasure)\n",
    "        : base (itemId, name, price)\n",
    "    {\n",
    "        UnitMeasure = unitMeasure;\n",
    "    }\n",
    "    public override string GetDetails()\n",
    "    {\n",
    "        return base.GetDetails() + $\", Единица измерения: {UnitMeasure}\";\n",
    "    }\n",
    "}\n",
    "public class PackageItem : Item\n",
    "{\n",
    "    public int QuantityPerPackage {get; set;}\n",
    "    public PackageItem (int itemId, string name, decimal price, int quantityOerOackage)\n",
    "        : base (itemId, name, price)\n",
    "    {\n",
    "        QuantityPerPackage = quantityOerOackage;\n",
    "    }\n",
    "    public override decimal CalculateDiscount()\n",
    "    {\n",
    "        return Price * 0.15m;\n",
    "    }\n",
    "}\n",
    "public class SpecialItem : Item\n",
    "{\n",
    "    public DateTime DiscountExpirationDate {get; set;}\n",
    "    public SpecialItem (int itemId, string name, decimal price, DateTime discountExpirationDate)\n",
    "        : base (itemId, name, price)\n",
    "    {\n",
    "        DiscountExpirationDate = discountExpirationDate;\n",
    "    }\n",
    "    public override void ApplyDiscount(decimal discount)\n",
    "    {\n",
    "        if (DateTime.Now <= DiscountExpirationDate)\n",
    "        {\n",
    "            base.ApplyDiscount(discount);\n",
    "        }\n",
    "        else\n",
    "        {\n",
    "            Console.WriteLine(\"Срок действия скидки истек...\");\n",
    "        }\n",
    "    }\n",
    "}\n"
   ]
  }
 ],
 "metadata": {
  "kernelspec": {
   "display_name": ".NET (C#)",
   "language": "C#",
   "name": ".net-csharp"
  },
  "polyglot_notebook": {
   "kernelInfo": {
    "defaultKernelName": "csharp",
    "items": [
     {
      "aliases": [],
      "languageName": "csharp",
      "name": "csharp"
     }
    ]
   }
  }
 },
 "nbformat": 4,
 "nbformat_minor": 2
}
